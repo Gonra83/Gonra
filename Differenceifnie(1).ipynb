{
 "cells": [
  {
   "cell_type": "code",
   "execution_count": 43,
   "metadata": {},
   "outputs": [
    {
     "data": {
      "application/javascript": [
       "IPython.notebook.set_autosave_interval(100000)"
      ]
     },
     "metadata": {},
     "output_type": "display_data"
    },
    {
     "name": "stdout",
     "output_type": "stream",
     "text": [
      "Autosaving every 100 seconds\n"
     ]
    }
   ],
   "source": [
    "from IPython.display import display, Latex\n",
    "from IPython.core.display import HTML\n",
    "%reset -f\n",
    "%matplotlib inline\n",
    "%autosave 100\n",
    "from matplotlib.pylab import *\n",
    "from time import clock\n",
    "from scipy.sparse import  spdiags"
   ]
  },
  {
   "cell_type": "markdown",
   "metadata": {},
   "source": [
    "# Différences finies 1D\n",
    "L'objectif ici est de présenter la discrétisation différence finie 1D pour le problème de Dirichlet homogène:\n",
    "$$\n",
    "\\begin{align}\n",
    "&-u''(x)=f(x),\\quad \\forall x\\in ]0,1[,\\\\\n",
    "&u(0)=u(1)=0.\n",
    "\\end {align}\n",
    "$$\n",
    "## Approximation de la dérivée seconde\n",
    "On rappelle que si $u$ est une fonction $\\mathcal C^4$, alors\n",
    "$$\n",
    "-u''(x)=\\frac {-u(x-h)+2u(x)-u(x+h)}{h^2}+\\mathcal O(h^2).\n",
    "$$\n",
    "Cette formule, basée sur des évaluations de $u$ pour approcher $u''$ lorsque le réel $h>0$ est petit, va servir d'approximation évaluée en de nombreux points distants de $h$. Il s'en suivra un système linéaire.\n",
    "\n",
    "On introduit la discrétisation uniforme du segment $]0,1[$ par \n",
    "$$\n",
    "x_i=i h, \\quad i=0 \\cdots N+1,\n",
    "$$\n",
    "avec $h=\\frac 1 {N+1}$.\n",
    "Pour $i=1$ à $N$, on va approcher l'équation $-u''(x_i)=f(x_i)$. Pour $i=0$ et $i=N+1$, on va utiliser la condition limite. On note $u_i\\sim u(x_i)$ et $f_i=f(x_i)$ satisfaisant \n",
    "$$\n",
    "\\begin {align}\n",
    "&u_0=0\\\\\n",
    "&\\frac {-u_{0}+2u_1-u_2}{h^2}=f_1\\\\\n",
    "&\\frac {-u_{1}+2u_2-u_3}{h^2}=f_2\\\\\n",
    "&\\cdots\\\\\n",
    "&\\frac {-u_{i-1}+2u_i-u_{i+1}}{h^2}=f_i\\\\\n",
    "&\\cdots\\\\\n",
    "&\\frac {-u_{N-1}+2u_N-u_{N+1}}{h^2}=f_ N\\\\\n",
    "&u_{N+1}=0.\n",
    "\\end {align}\n",
    "$$\n",
    "En éliminant la première et la dernière equation substituées dans la deuxième et avant-dernière equation, il vient le système de $N$ inconnues $U=(u_1,\\cdots,u_N)^t$ suivant:\n",
    "$$\n",
    "A U=F,\\quad F=(f_1,\\cdots,f_N)^t,\n",
    "$$\n",
    "avec \n",
    "$$\n",
    "A=\\frac 1 {h^2}\\left (\\matrix{&2&-1&0&\\cdots&0\\\\\n",
    "&-1&2&-1&0&\\cdots\\\\\n",
    "&0&-1&2&-1&0 \\\\\n",
    "&-&-&-&-&-\\\\\n",
    "&0&\\cdots&0&-1&2}\\right )\n",
    "$$\n",
    "L'objectif est alors de construire ce système linéaire en python. On utilisera la gestion creuse des matrices à l'aide des outils de la bibliothèque scipy.\n",
    "\n",
    "\n"
   ]
  },
  {
   "cell_type": "code",
   "execution_count": 44,
   "metadata": {},
   "outputs": [
    {
     "data": {
      "text/plain": [
       "<matplotlib.collections.PathCollection at 0x1cea14e07c8>"
      ]
     },
     "execution_count": 44,
     "metadata": {},
     "output_type": "execute_result"
    },
    {
     "data": {
      "image/png": "[encoded data removed]",
      "text/plain": [
       "<Figure size 432x288 with 1 Axes>"
      ]
     },
     "metadata": {
      "needs_background": "light"
     },
     "output_type": "display_data"
    }
   ],
   "source": [
    "#importation des bibliothèques utiles\n",
    "from scipy.sparse.linalg import spsolve\n",
    "from scipy.sparse import spdiags\n",
    "# le pas h\n",
    "N=600\n",
    "h=1/(N+1)\n",
    "# construction du vecteur de discrétisation\n",
    "x=linspace(h,1-h,N)\n",
    "x_avec_CL=linspace(0,1,N+2)\n",
    "#construction de la fonction f de votre choix\n",
    "f=lambda x : 150*x**2-100*x\n",
    "#construction du second membre du systeme\n",
    "F=f(x)\n",
    "#construction de la matrice en systeme creux\n",
    "D0=2/h**2*ones(N)\n",
    "D1=-1/h**2*ones(N)\n",
    "A=spdiags(D0,[0],N,N)+spdiags(D1,[1],N,N)+spdiags(D1,[-1],N,N)\n",
    "#resolution du systeme creux\n",
    "U=spsolve(A,F)\n",
    "#Ajout des CL de Dirichlet\n",
    "U_avec_CL=zeros(N+2)\n",
    "U_avec_CL[1:N+1]=U\n",
    "plot(x_avec_CL,U_avec_CL)\n",
    "#On rajoute les points de discrétisation sur l'axe des abscisses.\n",
    "scatter(x,0*x,[0.1],'red')"
   ]
  },
  {
   "cell_type": "markdown",
   "metadata": {},
   "source": [
    "## Dirichlet inhomogène\n",
    "Construire la solution du problème de Dirichlet inhomogène\n",
    "$$\n",
    "\\begin{align}\n",
    "&-u''(x)=f(x),\\quad \\forall x\\in ]0,1[,\\\\\n",
    "&u(0) = u_0 =a\\\\\n",
    "&u(1) = u_1 =b.\n",
    "\\end {align}\n",
    "$$\n",
    "Choisir $f$ $a$ et $b$ à votre guise.\n",
    "\n",
    "On rappelle que si $u$ est une fonction $\\mathcal C^4$, alors\n",
    "$$\n",
    "-u''(x)=\\frac {-u(x-h)+2u(x)-u(x+h)}{h^2}+\\mathcal O(h^2).\n",
    "$$\n",
    "Cette formule, basée sur des évaluations de $u$ pour approcher $u''$ lorsque le réel $h>0$ est petit, va servir d'approximation évaluée en de nombreux points distants de $h$. Il s'en suivra un système linéaire.\n",
    "\n",
    "On introduit la discrétisation uniforme du segment $]0,1[$ par \n",
    "$$\n",
    "x_i=i h, \\quad i=0 \\cdots N+1,\n",
    "$$\n",
    "avec $h=\\frac 1 {N+1}$.\n",
    "Pour $i=1$ à $N$, on va approcher l'équation $-u''(x_i)=f(x_i)$. Pour $i=0$ et $i=N+1$, on va utiliser la condition limite. On note $u_i\\sim u(x_i)$ et $f_i=f(x_i)$ satisfaisant \n",
    "$$\n",
    "\\begin {align}\n",
    "&u_0 = a\\\\\n",
    "&\\frac {-u_{0}+2u_1-u_2}{h^2} = f_1 + \\frac{a}{h^2}\\\\\n",
    "&\\frac {-u_{1}+2u_2-u_3}{h^2} = f_2\\\\\n",
    "&\\cdots\\\\\n",
    "&\\frac {-u_{i-1}+2u_i-u_{i+1}}{h^2} = f_i\\\\\n",
    "&\\cdots\\\\\n",
    "&\\frac {-u_{N-1}+2u_N-u_{N+1}}{h^2} = f_ N  + \\frac{b}{h^2}\\\\\n",
    "&u_{N+1} = b.\n",
    "\\end {align}\n",
    "$$\n",
    "En éliminant la première et la dernière equation substituées dans la deuxième et avant-dernière equation, il vient le système de $N$ inconnues $U=(u_1,\\cdots,u_N)^t$ suivant:\n",
    "$$\n",
    "A U=F,\\quad F=(f_1,\\cdots,f_N,)^t,\n",
    "$$\n",
    "avec \n",
    "$$\n",
    "A=\\frac 1 {h^2}\\left (\\matrix{&2&-1&0&\\cdots&0\\\\\n",
    "&-1&2&-1&0&\\cdots\\\\\n",
    "&0&-1&2&-1&0 \\\\\n",
    "&-&-&-&-&-\\\\\n",
    "&0&\\cdots&0&-1&2}\\right )\n",
    "$$\n",
    "L'objectif est alors de construire ce système linéaire en python. On utilisera la gestion creuse des matrices à l'aide des outils de la bibliothèque scipy.\n"
   ]
  },
  {
   "cell_type": "code",
   "execution_count": 45,
   "metadata": {},
   "outputs": [
    {
     "data": {
      "text/plain": [
       "<matplotlib.collections.PathCollection at 0x1cea11d32c8>"
      ]
     },
     "execution_count": 45,
     "metadata": {},
     "output_type": "execute_result"
    },
    {
     "data": {
      "image/png": "[encoded data removed]",
      "text/plain": [
       "<Figure size 432x288 with 1 Axes>"
      ]
     },
     "metadata": {
      "needs_background": "light"
     },
     "output_type": "display_data"
    }
   ],
   "source": [
    "#importation des bibliothèques utiles\n",
    "from scipy.sparse.linalg import spsolve\n",
    "from scipy.sparse import spdiags\n",
    "# le pas h\n",
    "N=60\n",
    "h=1/(N+1)\n",
    "# construction du vecteur de discrétisation\n",
    "x=linspace(h,1-h,N)\n",
    "a = -2\n",
    "b = 1\n",
    "x_avec_CL=linspace(a,b,N+2)\n",
    "\n",
    "#construction de la fonction f de votre choix #Ici f(x) = 150x^2 - 100x\n",
    "f=lambda x : 150*x**2-100*x\n",
    "#construction du second membre du systeme\n",
    "F=f(x)\n",
    "F[0] += a/(h**2)\n",
    "F[N-1] += b/(h**2)\n",
    "#construction de la matrice en systeme creux\n",
    "D0=2/h**2*ones(N)\n",
    "D1=-1/h**2*ones(N)\n",
    "A=spdiags(D0,[0],N,N)+spdiags(D1,[1],N,N)+spdiags(D1,[-1],N,N)\n",
    "#resolution du systeme creux\n",
    "U=spsolve(A,F)\n",
    "#Ajout des CL de Dirichlet\n",
    "U_avec_CL=zeros(N+2)\n",
    "U_avec_CL[0] = a\n",
    "U_avec_CL[N+1] = b\n",
    "U_avec_CL[1:N+1]=U\n",
    "plot(x_avec_CL,U_avec_CL)\n",
    "#On rajoute les points de discrétisation sur l'axe des abscisses.\n",
    "scatter(x,0*x,[0.1],'red')"
   ]
  },
  {
   "cell_type": "markdown",
   "metadata": {},
   "source": [
    "   ## Neuman homogène\n",
    "Construisons la solution du problème de Neuman homogène\n",
    "$$\n",
    "\\begin{align}\n",
    "&-u''(x) +u(x)=f(x),\\quad \\forall x\\in ]0,1[,\\\\\n",
    "&u'(0)=u'(1)=0.\n",
    "\\end {align}\n",
    "$$\n",
    "Choisir $f$ $a$ et $b$ à votre guise.\n",
    "$$\n",
    "$$\n",
    "On introduit la discrétisation uniforme du segment $]0,1[$ par \n",
    "$$\n",
    "x_i=i h, \\quad i=0\\cdots N-1,\n",
    "$$\n",
    "avec $h=\\frac 1 {N-1}$.\n",
    "Pour $i=0$ à $N-1$, on va approcher l'équation $-u''(x_i)+u(x_i)=f(x_i)$ de la même manière que pour le problème de Dirichlet. On note $u_i\\sim u(x_i)$ et $f_i=f(x_i)$.\n",
    "Pour $i=0$ et $i=N-1$, on introduit alors $u_{-1}$ et $u_{N}$ qu'il convient d'éliminer par la condition limite de Neuman homogène. On remarque que la différence centrée qui approche la dérivée ($u'(x)=\\frac {u(x+h)-u(x-h)} {2h}$) permet d'écrire\n",
    "$$\n",
    "u_{-1}=u_1,\\quad u_{N}=u_{N-2}.\n",
    "$$\n",
    "On a alors le système linéaire\n",
    "$$\n",
    "\\left \\{\\begin {align}\n",
    "&u_{-1}=u_1\\\\\n",
    "&\\frac {-u_{-1}+2u_0-u_1}{h^2}+u_0=f_0\\\\\n",
    "&\\frac {-u_{0}+2u_1-u_2}{h^2}+u_1=f_1\\\\\n",
    "&\\frac {-u_{1}+2u_2-u_3}{h^2}+u_2=f_2\\\\\n",
    "&\\cdots\\\\\n",
    "&\\frac {-u_{i-1}+2u_i-u_{i+1}}{h^2}+u_i=f_i\\\\\n",
    "&\\cdots\\\\\n",
    "&\\frac {-u_{N-2}+2u_{N-1}-u_{N}}{h^2}+u_{N-1}=f_{N-1}\\\\\n",
    "&u_{N}=u_{N-2}.\n",
    "\\end {align}\\right .\n",
    "$$\n",
    "En éliminant la première et la dernière equation substituées dans la deuxième et avant-dernière equation, il vient le système de $N$ inconnues $U=(u_0,\\cdots,u_{N-1})^t$ suivant:\n",
    "$$\n",
    "A U=F,\\quad F=\\left (f_0,\\cdots,f_{N-1}\\right)^t,\n",
    "$$\n",
    "avec \n",
    "$$\n",
    "A=\\frac 1 {h^2}\\left (\\matrix{&2&-2&0&\\cdots&0\\\\\n",
    "&-1&2&-1&0&\\cdots\\\\\n",
    "&0&-1&2&-1&0 \\\\\n",
    "&-&-&-&-&-\\\\\n",
    "&0&\\cdots&0&-2&2}\\right )+Id\n",
    "$$\n",
    "Par soucis de symétrie dans le système et parce que cela est pertinent pour les méthodes de résolution de système linéaire, on symétrise le système en divisant par $2$ la première et dernière équation du système. On obtient alors le système:\n",
    "$$\n",
    "A U=F,\\quad F=\\left(\\frac {f_{0}}2,f_1,\\cdots,f_{N-2},\\frac {f_{N-1}}2\\right)^t,\n",
    "$$\n",
    "avec \n",
    "$$\n",
    "A=\\frac 1 {h^2}\\left (\\matrix{&1&-1&0&\\cdots&0\\\\\n",
    "&-1&2&-1&0&\\cdots\\\\\n",
    "&0&-1&2&-1&0 \\\\\n",
    "&-&-&-&-&-\\\\\n",
    "&0&\\cdots&0&-1&1}\\right )+\\left (\\matrix{&\\frac 1 2&0& &\\cdots&0\\\\\n",
    "&0&1&0& &\\cdots\\\\\n",
    "&&0&1&0& \\\\\n",
    "&-&-&-&-&-\\\\\n",
    "& &\\cdots& &0&\\frac 1 2}\\right )\n",
    "$$\n",
    "\n",
    "\n",
    "L'objectif est alors de construire ce système linéaire en python. On utilisera la gestion creuse des matrices à l'aide des outils de la bibliothèque scipy.\n"
   ]
  },
  {
   "cell_type": "code",
   "execution_count": 72,
   "metadata": {},
   "outputs": [
    {
     "data": {
      "text/plain": [
       "<matplotlib.collections.PathCollection at 0x1cea1c14508>"
      ]
     },
     "execution_count": 72,
     "metadata": {},
     "output_type": "execute_result"
    },
    {
     "data": {
      "image/png": "[encoded data removed]",
      "text/plain": [
       "<Figure size 432x288 with 1 Axes>"
      ]
     },
     "metadata": {
      "needs_background": "light"
     },
     "output_type": "display_data"
    }
   ],
   "source": [
    "# le pas h\n",
    "N=60\n",
    "h=1/(N-1)\n",
    "# construction du vecteur de discrétisation\n",
    "x=linspace(0,1,N)\n",
    "#construction de la fonction f de votre choix\n",
    "f=lambda x : 150*x**2-100*x\n",
    "#construction du second membre du systeme\n",
    "F=f(x)\n",
    "F[0]=0.5*F[0]\n",
    "F[N-1]=0.5*F[N-1]\n",
    "#construction de la matrice en systeme creux\n",
    "D0=(2/h**2+1)*ones(N)\n",
    "D0[0]=0.5*D0[0]\n",
    "D0[N-1]=0.5*D0[N-1]\n",
    "D1=(-1/h**2)*ones(N)\n",
    "A=spdiags(D0,[0],N,N)+spdiags(D1,[1],N,N)+spdiags(D1,[-1],N,N)\n",
    "U=spsolve(A,F)\n",
    "plot(x,U)\n",
    "#On rajoute les points de discrétisation sur l'axe des abscisses.\n",
    "scatter(x,0*x,[0.1],'red')"
   ]
  },
  {
   "cell_type": "markdown",
   "metadata": {},
   "source": [
    "## Neuman inhomogène\n",
    "Construire la solution du problème de Neuman inhomogène\n",
    "$$\n",
    "\\begin{align}\n",
    "&-u''(x) +u(x)=f(x),\\quad \\forall x\\in ]0,1[,\\\\\n",
    "&u'(0)=a\\\\\n",
    "&u'(1)=b.\n",
    "\\end {align}\n",
    "$$\n",
    "On introduit la discrétisation uniforme du segment $]0,1[$ par \n",
    "$$\n",
    "x_i=i h, \\quad i=0\\cdots N-1,\n",
    "$$\n",
    "avec $h=\\frac 1 {N-1}$.\n",
    "Pour $i=0$ à $N-1$, on va approcher l'équation $-u''(x_i)+u(x_i)=f(x_i)$ de la même manière que pour le problème de Dirichlet. On note $u_i\\sim u(x_i)$ et $f_i=f(x_i)$.\n",
    "Pour $i=0$ et $i=N-1$, on introduit alors $u_{-1}$ et $u_{N}$ qu'il convient d'éliminer par la condition limite de Neuman homogène. On remarque que la différence centrée qui approche la dérivée ($u'(x)=\\frac {u(x+h)-u(x-h)} {2h}$) permet d'écrire\n",
    "$$\n",
    "\\frac{u_1 - u_{-1}}{2h} = a ,\\quad \\frac{u_N - u_{N-1}}{2h} = b.\n",
    "$$\n",
    "On a alors le système linéaire\n",
    "$$\n",
    "\\left \\{\\begin {align}\n",
    "&\\frac{u_1 - u_{-1}}{2h} = a \\implies u_{-1} = u_{1} - 2ah\\\\\n",
    "&\\frac{-u_{-1}+2u_0-u_1}{h^2}+u_0 = f_0 \\implies \\frac {2u_0-2u_1}{h^2}+u_0=f_0 - \\frac{2a}{h} \\\\\n",
    "&\\frac{-u_{0}+2u_1-u_2}{h^2}+u_1=f_1\\\\\n",
    "&\\frac{-u_{1}+2u_2-u_3}{h^2}+u_2=f_2\\\\\n",
    "&\\cdots\\\\\n",
    "&\\frac{-u_{i-1}+2u_i-u_{i+1}}{h^2}+u_i=f_i\\\\\n",
    "&\\cdots\\\\\n",
    "&\\frac{-u_{N-2}+2u_{N-1}-u_{N}}{h^2}+u_{N-1}=f_{N-1} \\implies \\frac {2u_{N-1}-2u_{N-2}}{h^2}+u_{N-1}=f_{N-1} + \\frac{2b}{h}\\\\\n",
    "&\\frac{u_N - u_{N-2}}{2h} = b \\implies {u_N} = u_{N-2}+ 2bh\n",
    "\\end {align}\\right .\n",
    "$$\n",
    "En éliminant la première et la dernière equation substituées dans la deuxième et avant-dernière equation, il vient le système de $N$ inconnues $U=(u_0,\\cdots,u_{N-1})^t$ suivant:\n",
    "$$\n",
    "A U=F,\\quad F=\\left (f_0,\\cdots,f_{N-1}\\right)^t,\n",
    "$$\n",
    "avec \n",
    "$$\n",
    "A=\\frac 1 {h^2}\\left (\\matrix{&2&-2&0&\\cdots&0\\\\\n",
    "&-1&2&-1&0&\\cdots\\\\\n",
    "&0&-1&2&-1&0 \\\\\n",
    "&-&-&-&-&-\\\\\n",
    "&0&\\cdots&0&-2&2}\\right )+Id\n",
    "$$\n",
    "Par soucis de symétrie dans le système et parce que cela est pertinent pour les méthodes de résolution de système linéaire, on symétrise le système en divisant par $2$ la première et dernière équation du système. On obtient alors le système:\n",
    "$$\n",
    "A U=F,\\quad F=\\left(\\frac {f_0 - \\frac{2a}{h}}2,f_1,\\cdots,f_{N-2},\\frac {f_{N-1} + \\frac{2b}{h}}2\\right)^t,\n",
    "$$\n",
    "avec \n",
    "$$\n",
    "A=\\frac 1 {h^2}\\left (\\matrix{&1&-1&0&\\cdots&0\\\\\n",
    "&-1&2&-1&0&\\cdots\\\\\n",
    "&0&-1&2&-1&0 \\\\\n",
    "&-&-&-&-&-\\\\\n",
    "&0&\\cdots&0&-1&1}\\right )+\\left (\\matrix{&\\frac 1 2&0& &\\cdots&0\\\\\n",
    "&0&1&0& &\\cdots\\\\\n",
    "&&0&1&0& \\\\\n",
    "&-&-&-&-&-\\\\\n",
    "& &\\cdots& &0&\\frac 1 2}\\right )\n",
    "$$\n",
    "\n",
    "\n",
    "L'objectif est alors de construire ce système linéaire en python. On utilisera la gestion creuse des matrices à l'aide des outils de la bibliothèque scipy."
   ]
  },
  {
   "cell_type": "code",
   "execution_count": 47,
   "metadata": {},
   "outputs": [
    {
     "data": {
      "text/plain": [
       "<matplotlib.collections.PathCollection at 0x1ce9ef3cdc8>"
      ]
     },
     "execution_count": 47,
     "metadata": {},
     "output_type": "execute_result"
    },
    {
     "data": {
      "image/png": "[encoded data removed]",
      "text/plain": [
       "<Figure size 432x288 with 1 Axes>"
      ]
     },
     "metadata": {
      "needs_background": "light"
     },
     "output_type": "display_data"
    }
   ],
   "source": [
    "#cl\n",
    "a=1\n",
    "b=3\n",
    "# le pas h\n",
    "N = 60\n",
    "h = 1/(N-1)\n",
    "# construction du vecteur de discrétisation\n",
    "x = linspace(0,1,N)\n",
    "#construction de la fonction f de votre choix\n",
    "f = lambda x : 150*x**2-100*x\n",
    "#construction du second membre du systeme\n",
    "F = f(x)\n",
    "F[0] = 0.5*F[0]-a/h\n",
    "F[N-1] = 0.5*F[N-1]+b/h\n",
    "#construction de la matrice en systeme creux\n",
    "D0 = (2/h**2+1)*ones(N)\n",
    "D0[0] = 0.5*D0[0]\n",
    "D0[N-1] = 0.5*D0[N-1]\n",
    "D1 = -1/h**2*ones(N)\n",
    "A = spdiags(D0,[0],N,N)+spdiags(D1,[1],N,N)+spdiags(D1,[-1],N,N)\n",
    "U = spsolve(A,F)\n",
    "plot(x,U)\n",
    "#On rajoute les points de discrétisation sur l'axe des abscisses.\n",
    "scatter(x,0*x,[0.1],'red')"
   ]
  },
  {
   "cell_type": "markdown",
   "metadata": {},
   "source": [
    "## Robin inhomogène\n",
    "Construire la solution du problème de Neuman inhomogène\n",
    "$$\n",
    "\\begin{align}\n",
    "&-u''(x) =f(x),\\quad \\forall x\\in ]0,1[,\\\\\n",
    "&-u'(0)+d_0 u(0)=a\\\\\n",
    "&u'(1)+d_1 u(1)=b.\n",
    "\\end {align}\n",
    "$$\n",
    "Choisir $f$ $d_0>0$ et $d_1>0$ $a$ et $b$ à votre guise.\n",
    "\n",
    "On introduit la discrétisation uniforme du segment $]0,1[$ par \n",
    "\n",
    "$$\n",
    "x_i=i h, \\quad i=0\\cdots N-1,\n",
    "$$\n",
    "avec $h=\\frac 1 {N-1}$.\n",
    "Pour $i=0$ à $N-1$, on va approcher l'équation $-u''(x_i)+u(x_i)=f(x_i)$ de la même manière que pour le problème de Dirichlet. On note $u_i\\sim u(x_i)$ et $f_i=f(x_i)$.\n",
    "Pour $i=0$ et $i=N-1$, on introduit alors $u_{-1}$ et $u_{N}$ qu'il convient d'éliminer par la condition limite de Neuman homogène. On remarque que la différence centrée qui approche la dérivée ($u'(x)=\\frac {u(x+h)-u(x-h)} {2h}$) permet d'écrire\n",
    "$$\n",
    "-\\frac{u_1 - u_{-1}}{2h} + d_0 u(0) = a  ,\\quad \\frac{u_N - u_{N-2}}{2h} + d_1 u_{N-1} = b.\n",
    "$$\n",
    "On a alors le système linéaire\n",
    "$$\n",
    "\\left \\{\\begin {align}\n",
    "&\\frac{u_1 - u_{-1}}{2h} = -a + d_0 u(0)  \\implies u_{-1} = u_{1} + 2ah - 2d_0 u(0) h\\\\\n",
    "&\\frac{-u_{-1}+2u_0-u_1}{h^2}+u_0 = f_0 \\implies \\frac {u_0(2+2d_0h)}{h^2} - \\frac {2u_1}{h^2}+u_0=f_0 + \\frac{2a}{h}\\\\\n",
    "&\\frac{-u_{0}+2u_1-u_2}{h^2}+u_1=f_1\\\\\n",
    "&\\frac{-u_{1}+2u_2-u_3}{h^2}+u_2=f_2\\\\\n",
    "&\\cdots\\\\\n",
    "&\\frac{-u_{i-1}+2u_i-u_{i+1}}{h^2}+u_i=f_i\\\\\n",
    "&\\cdots\\\\\n",
    "&\\frac{-u_{N-2}+2u_{N-1}-u_{N}}{h^2}+u_{N-1}=f_{N-1} \\implies \\frac {u_{N-1}(2-2d_1h)}{h^2} - \\frac {2u_{N-2}}{h^2}+u_{N-1}=f_{N-1} + \\frac{2b}{h}\\\\\n",
    "&\\frac{u_N - u_{N-2}}{2h} = b - d_1 u_{N-1} \\implies u_N = u_{N-2}+ 2bh - 2d_1 u_{N-1}h\n",
    "\\end {align}\\right .\n",
    "$$\n",
    "En éliminant la première et la dernière equation substituées dans la deuxième et avant-dernière equation, il vient le système de $N$ inconnues $U=(u_0,\\cdots,u_{N-1})^t$ suivant:\n",
    "$$\n",
    "A U=F,\\quad F=\\left (f_0,\\cdots,f_{N-1}\\right)^t,\n",
    "$$\n",
    "avec \n",
    "$$\n",
    "A=\\frac 1 {h^2}\\left (\\matrix{&2+2d_0h&-2&0&\\cdots&0\\\\\n",
    "&-1&2&-1&0&\\cdots\\\\\n",
    "&0&-1&2&-1&0 \\\\\n",
    "&-&-&-&-&-\\\\\n",
    "&0&\\cdots&0&-2&2-2d_1h}\\right )+Id\n",
    "$$\n",
    "Par soucis de symétrie dans le système et parce que cela est pertinent pour les méthodes de résolution de système linéaire, on symétrise le système en divisant par $2$ la première et dernière équation du système. On obtient alors le système:\n",
    "$$\n",
    "A U=F,\\quad F=\\left(\\frac {f_0 + \\frac{2a}{h}}2,f_1,\\cdots,f_{N-2},\\frac {f_{N-1} + \\frac{{2b}}{h}}2\\right)^t,\n",
    "$$\n",
    "avec \n",
    "$$\n",
    "A=\\frac 1 {h^2}\\left (\\matrix{&1+d_0h&-1&0&\\cdots&0\\\\\n",
    "&-1&2&-1&0&\\cdots\\\\\n",
    "&0&-1&2&-1&0 \\\\\n",
    "&-&-&-&-&-\\\\\n",
    "&0&\\cdots&0&-1&1-d_1h}\\right )+\\left (\\matrix{&\\frac 1 2&0& &\\cdots&0\\\\\n",
    "&0&1&0& &\\cdots\\\\\n",
    "&&0&1&0& \\\\\n",
    "&-&-&-&-&-\\\\\n",
    "& &\\cdots& &0&\\frac 1 2}\\right )\n",
    "$$\n",
    "\n",
    "\n",
    "L'objectif est alors de construire ce système linéaire en python. On utilisera la gestion creuse des matrices à l'aide des outils de la bibliothèque scipy."
   ]
  },
  {
   "cell_type": "code",
   "execution_count": 48,
   "metadata": {},
   "outputs": [
    {
     "data": {
      "text/plain": [
       "<matplotlib.collections.PathCollection at 0x1cea19b53c8>"
      ]
     },
     "execution_count": 48,
     "metadata": {},
     "output_type": "execute_result"
    },
    {
     "data": {
      "image/png": "[encoded data removed]",
      "text/plain": [
       "<Figure size 432x288 with 1 Axes>"
      ]
     },
     "metadata": {
      "needs_background": "light"
     },
     "output_type": "display_data"
    }
   ],
   "source": [
    "# le pas h\n",
    "N = 60\n",
    "h = 1/(N-1)\n",
    "#a,b,d0 et d1\n",
    "a = 1\n",
    "b = 2\n",
    "d0 = 1\n",
    "d1 = 2\n",
    "# construction du vecteur de discrétisation\n",
    "x = linspace(0,1,N)\n",
    "#construction de la fonction f de votre choix\n",
    "f = lambda x : 150*x**2-100*x\n",
    "#construction du second membre du systeme\n",
    "F = f(x)\n",
    "F[0] = 0.5*(F[0]+(2*a)/h)\n",
    "F[N-1] = 0.5*(F[N-1]+(2*b)/h)\n",
    "#construction de la matrice en systeme creux\n",
    "D0 = (2/h**2+1)*ones(N)\n",
    "D0[0] = 0.5*D0[0]+2*h*d0\n",
    "D0[N-1] = 0.5*D0[N-1]-2*h*d1\n",
    "D1 = (-1/h**2)*ones(N)\n",
    "A = spdiags(D0,[0],N,N)+spdiags(D1,[1],N,N)+spdiags(D1,[-1],N,N)\n",
    "U = spsolve(A,F)\n",
    "plot(x,U)\n",
    "#On rajoute les points de discrétisation sur l'axe des abscisses.\n",
    "scatter(x,0*x,[0.1],'red')"
   ]
  },
  {
   "cell_type": "markdown",
   "metadata": {},
   "source": [
    "## Estimation d'erreur\n",
    "On va estimer l'erreur entre la solution approchée par la méthode des différences finies centrées et la solution exacte du problème . La théorie dit que l'erreur d'approximation  est d'ordre 2, c'est à dire de taille $\\mathcal O(h^2)$ et fait plus précisément intervenir la dérivée quatrième de la solution exacte. Ainsi si la solution est un polynôme de degré inférieur ou égal à 3, la solution  approchée coincide avec la solution exacte en chacun des points de la discrétisation $x_i$.\n",
    "Il conviendra donc de choisir une solution exacte qui n'est pas un polynôme de degré inférieur à 3 et qui satisfait bien-sûr les conditions limites.\n",
    "### Problème de Dirichlet\n",
    "Choisissons par exemple la solution non triviale $u(x)=\\sin(x^2)\\sin(x-1)$ du problème de Dirichlet\n",
    "$$\n",
    "\\begin{align}\n",
    "&-u''(x)=f(x),\\quad \\forall x\\in ]0,1[,\\\\\n",
    "&u(0)=u(1)=0.\n",
    "\\end {align}\n",
    "$$\n",
    "Il convient de calculer $f$ afin de satisfaire que $u(x)=\\sin(x^2)\\sin(x-1)$ est bien solution. Pour des problèmes plus compliqué, on pourra faire appel au calcul formel avec la librairie sympy."
   ]
  },
  {
   "cell_type": "code",
   "execution_count": 49,
   "metadata": {},
   "outputs": [
    {
     "name": "stdout",
     "output_type": "stream",
     "text": [
      "4*x**2*sin(x - 1)*cos(x**2) + 4*x*sin(x**2)*cos(x - 1) + 2*sin(x**2)*sin(x - 1) + sin(x - 1)*cos(x**2)\n"
     ]
    }
   ],
   "source": [
    "import sympy as sy\n",
    "x=sy.symbols('x')\n",
    "y=sy.cos(x**2)*sy.sin(x-1)\n",
    "z=sy.diff(y,x)\n",
    "z2=sy.diff(z,x)\n",
    "print(-z2)"
   ]
  },
  {
   "cell_type": "markdown",
   "metadata": {},
   "source": [
    "On sait désormais l'expression de $f$. On va alors construire cette fonction et définir la solution exacte. \n",
    "En définissant l'erreur entre la solution exacte et approchée, pour la norme de notre choix, comme une fonction python qui dépend de la taille de la discrétisation, on pourra alors calculer aisément l'erreur pour plusieurs discrétisation. La fonction construite sera également paramètrée par la fonction $f$, $u$ (solution exacte) et un entier qui caractérise la norme choisie."
   ]
  },
  {
   "cell_type": "code",
   "execution_count": 73,
   "metadata": {
    "scrolled": true
   },
   "outputs": [
    {
     "name": "stdout",
     "output_type": "stream",
     "text": [
      "0.00018597324449156968\n"
     ]
    },
    {
     "data": {
      "text/plain": [
       "[<matplotlib.lines.Line2D at 0x1cea2396e08>,\n",
       " <matplotlib.lines.Line2D at 0x1cea236ef48>]"
      ]
     },
     "execution_count": 73,
     "metadata": {},
     "output_type": "execute_result"
    },
    {
     "data": {
      "image/png": "[encoded data removed]",
      "text/plain": [
       "<Figure size 432x288 with 1 Axes>"
      ]
     },
     "metadata": {
      "needs_background": "light"
     },
     "output_type": "display_data"
    }
   ],
   "source": [
    "u=lambda x: x*sin(x)*sin(x - 1)/2 + x*cos(x)*cos(x - 1)/2 - sin(x)*cos(x - 1)/2\n",
    "f=lambda x: sin(x)*cos(x - 1) + sin(x - 1)*cos(x)\n",
    "#\n",
    "\n",
    "def erreur_Neumann(N,u,f,p):\n",
    "# N est le nombre de points de discrétisation\n",
    "# u et f les fonctions passées en argumennt, on pourra en changer \n",
    "# en definissant d'autres fonctions\n",
    "# p est l'entier pour la norme l^p\n",
    "    h=1/(N+1)\n",
    "    # construction du vecteur de discrétisation\n",
    "    x=np.linspace(h,1-h,N)\n",
    "    #construction du second membre du systeme\n",
    "    F=f(x)\n",
    "    F[0]=0.5*F[0]\n",
    "    F[N-1]=0.5*F[N-1]\n",
    "    #construction de la matrice en systeme creux\n",
    "    D0=(2/h**2+1)*ones(N)\n",
    "    D0[0]=0.5*D0[0]\n",
    "    D0[N-1]=0.5*D0[N-1]\n",
    "    D1=-1/h**2*ones(N)\n",
    "    A=spdiags(D0,[0],N,N)+spdiags(D1,[1],N,N)+spdiags(D1,[-1],N,N)\n",
    "    #resolution du systeme creux\n",
    "    U=spsolve(A,F)\n",
    "    #le vecteur erreur err\n",
    "    err=abs(U-u(x))\n",
    "    #on présente le graphe des erreurs selon les points de discretisation\n",
    "#     plot(x,err)\n",
    "#    print([ei**p for ei in err],sum([ei**p for ei in err]))\n",
    "    normerr=sum([ei**p for ei in err])\n",
    "    normerr=normerr**(1/p)\n",
    "    #erreur relative\n",
    "    normeU=sum([abs(ui)**p for ui in U])\n",
    "    normeU=normeU**(1/p)\n",
    "    #return max(err)/max(abs(U))\n",
    "    return normerr/normeU\n",
    "\n",
    "print(erreur_Neumann(60,u,f,2))\n",
    "\n",
    "errtab=[]\n",
    "Ntab=[]\n",
    "for N in range(20,400,30):\n",
    "    Ntab.append(N)\n",
    "    errtab.append(erreur_Neumann(N,u,f,2))\n",
    "plot(log(Ntab),log(errtab),log(Ntab),-2*log(Ntab))\n",
    "# print(-2*log(Ntab))\n",
    "# print(log(errtab))"
   ]
  },
  {
   "cell_type": "code",
   "execution_count": 74,
   "metadata": {},
   "outputs": [
    {
     "name": "stdout",
     "output_type": "stream",
     "text": [
      "2.765809667941061\n"
     ]
    },
    {
     "data": {
      "text/plain": [
       "[<matplotlib.lines.Line2D at 0x1cea228cc88>,\n",
       " <matplotlib.lines.Line2D at 0x1cea229adc8>]"
      ]
     },
     "execution_count": 74,
     "metadata": {},
     "output_type": "execute_result"
    },
    {
     "data": {
      "image/png": "[encoded data removed]",
      "text/plain": [
       "<Figure size 432x288 with 1 Axes>"
      ]
     },
     "metadata": {
      "needs_background": "light"
     },
     "output_type": "display_data"
    }
   ],
   "source": [
    "u=lambda x: x*sin(x)*sin(x - 1)/2 + x*cos(x)*cos(x - 1)/2 - sin(x)*cos(x - 1)/2\n",
    "f=lambda x: sin(x)*cos(x - 1) + sin(x - 1)*cos(x)\n",
    "#\n",
    "\n",
    "def erreur_Neumann(N,u,f,p):\n",
    "# N est le nombre de points de discrétisation\n",
    "# u et f les fonctions passées en argumennt, on pourra en changer \n",
    "# en definissant d'autres fonctions\n",
    "# p est l'entier pour la norme l^p\n",
    "    h=1/(N+1)\n",
    "    # construction du vecteur de discrétisation\n",
    "    x=np.linspace(h,1-h,N)\n",
    "    #construction du second membre du systeme\n",
    "    F=f(x)\n",
    "    F[0]=0.5*F[0]\n",
    "    F[N-1]=0.5*F[N-1]\n",
    "    #construction de la matrice en systeme creux\n",
    "    D0=(2/h**2+1)*ones(N)\n",
    "    D0[0]=0.5*D0[0]\n",
    "    D0[N-1]=0.5*D0[N-1]\n",
    "    D1=-1/h**2*ones(N)\n",
    "    A=spdiags(D0,[0],N,N)+spdiags(D1,[1],N,N)+spdiags(D1,[-1],N,N)\n",
    "    #resolution du systeme creux\n",
    "    U=spsolve(A,F)\n",
    "    #le vecteur erreur err\n",
    "    err=abs(U-u(x))\n",
    "    #on présente le graphe des erreurs selon les points de discretisation\n",
    "#     plot(x,err)\n",
    "#    print([ei**p for ei in err],sum([ei**p for ei in err]))\n",
    "    normerr=sum([ei**p for ei in err])\n",
    "    normerr=normerr**(1/p)\n",
    "    #erreur relative\n",
    "    normeU=sum([abs(ui)**p for ui in U])\n",
    "    normeU=normeU**(1/p)\n",
    "    #return max(err)/max(abs(U))\n",
    "    return normerr/normeU\n",
    "\n",
    "print(erreur_Neumann(60,u,f,2))\n",
    "\n",
    "errtab=[]\n",
    "Ntab=[]\n",
    "for N in range(20,400,30):\n",
    "    Ntab.append(N)\n",
    "    errtab.append(erreur_Neumann(N,u,f,2))\n",
    "plot(log(Ntab),log(errtab),log(Ntab),-2*log(Ntab))\n",
    "# print(-2*log(Ntab))\n",
    "# print(log(errtab))"
   ]
  },
  {
   "cell_type": "markdown",
   "metadata": {},
   "source": [
    "# Différences finies 2D\n",
    "L'objectif ici est de présenter la discrétisation différence finie 2D pour le problème de Dirichlet homogène posé sur un rectangle:\n",
    "$$\n",
    "\\begin{align}\n",
    "-\\Delta u(x,y)=f(x,y),&\\quad \\forall (x,y)\\in \\Omega=]0,L[\\times]0,H[,\\\\\n",
    "u(x,y)=0,& \\quad \\forall (x,y)\\in \\partial \\Omega.\n",
    "\\end {align}\n",
    "$$\n",
    "## Approximation du Laplacien\n",
    "On utilise la même approximation que dans le cas 1D pour la direction $x$ et pour la direction $y$,  si $u$ est une fonction $\\mathcal C^4$, alors\n",
    "$$\n",
    "-\\Delta u(x,y)=\\frac {-u(x-l,y)+2u(x,y)-u(x+l,y)}{l^2}+\\frac {-u(x,y-h)+2u(x,y)-u(x,y+h)}{h^2}+\\mathcal O(l^2+h^2).\n",
    "$$\n",
    "Cette formule, basée sur des évaluations de $u$ sur une grille Cartésienne de pas $l$ dans la direction $x$ et de pas $h$ dans la direction $y$, va servir d'approximation de l'équation. Il s'en suivra un système linéaire dont le nombre d'inconnues est le nombre de points de grille internes au domaine $\\Omega$.\n",
    "On représente les points de la grille pour lesquels l'équation sera discrétisée.\n"
   ]
  },
  {
   "cell_type": "code",
   "execution_count": 52,
   "metadata": {},
   "outputs": [
    {
     "data": {
      "text/plain": [
       "[<matplotlib.lines.Line2D at 0x1cea19f2188>]"
      ]
     },
     "execution_count": 52,
     "metadata": {},
     "output_type": "execute_result"
    },
    {
     "data": {
      "image/png": "[encoded data removed]",
      "text/plain": [
       "<Figure size 432x288 with 1 Axes>"
      ]
     },
     "metadata": {
      "needs_background": "light"
     },
     "output_type": "display_data"
    }
   ],
   "source": [
    "# taille du domaine [0,L]x[0,H]\n",
    "L=2.;\n",
    "H=3.;\n",
    "# nombre de points de discretisation internes et pas de maillage\n",
    "N=20;\n",
    "M=15;\n",
    "l=L/(N+1);\n",
    "h=H/(M+1);\n",
    "# vecteur discretisation selon x\n",
    "x=linspace(l,L-l,N)\n",
    "# vecteur discretisation selon y\n",
    "y=linspace(h,H-h,M)\n",
    "xx=M*list(x)\n",
    "xx=array(xx)\n",
    "yy=N*list(y)\n",
    "yy=array(yy).reshape(N,M)\n",
    "yy=yy.T\n",
    "yy=yy.reshape(N*M)\n",
    "plot(xx,yy,'o')"
   ]
  },
  {
   "cell_type": "markdown",
   "metadata": {},
   "source": [
    "## Numérotation\n",
    "\n",
    "Il convient alors de numéroter ces points à l'aide d'un seul indice en choisissant un sens de parcours de tous ces points. Puis, on écrira pour chacun d'eux la discrétisation et ainsi les coefficients de la matrice correspondante à ce parcours, ie cette numérotation. Pour le point numéro $k$, on sera en mesure de remplir la ligne numéro $k$ de la matrice. Celle-ci contiendra donc $NM$ lignes et colonnes.\n",
    "\n",
    "La manière la plus classique de numéroter est de parcourir de gauche à droite depuis la ligne du bas jusqu'à la ligne du haut. Le premier point de chaque ligne est un point particulier car son voisin gauche tombe sur le bord. Il en va de même du dernier de chaque ligne dont le voisin de droite est sur le bord droit. La première et dernière ligne sont aussi des cas particuliers puisque le voisin du bas ou du haut tombe sur la bord bas ou haut.\n",
    "\n",
    "Si on considère le noeud $k$ associé aux indices $1\\le i\\le N$ et $1\\le j\\le M$ de la numérotation horizontale et verticale, on a $k=num(i,j)=i+(j-1)N$. Si on choisit $k=num(i,j)$ de sorte que $1< i< N$ et $1< j< M$ (noeud non voisin du bord), le voisin de gauche a le numéro $k-1$, le voisin de droite a le numéro $k+1$, le voisin du bas a le numéro $k-N$, le voisin du haut a le numéro $k+N$.\n",
    "\n",
    "## Structure de la matrice\n",
    "\n",
    "On en déduit que la matrice sera pentadiagonale avec une diagonale principale, une sous-diagonale décalée de $1$, une sous-diagonale décalée de $N$, une sur-diagonale décalée de $1$, une sur-diagonale décalée de $N$.  \n",
    "Il faudra gérer les cas particuliers des noeuds proche du bord afin de prendre en compte les voisins du bord pour lequel la solution est nulle (Dirichlet inhomogène).\n",
    "\n",
    "L'assemblage se construit donc à l'aide de 5 diagonales dont il faudra corriger ou vérifier les $N$ premières lignes, les $N$ dernières lignes, ainsi que la première ligne de chaque sous-bloc de taille $N$ (points gauches) et ainsi que la dernière ligne de chaque sous-bloc de taille $N$ (points droits).\n",
    "\n",
    "On doit se convaincre sur un brouillon que la matrice obtenue est symétrique. \n",
    "\n",
    "\n",
    "## Remplissage de la matrice en python"
   ]
  },
  {
   "cell_type": "code",
   "execution_count": 53,
   "metadata": {},
   "outputs": [
    {
     "name": "stderr",
     "output_type": "stream",
     "text": [
      "D:\\B\\python\\lib\\site-packages\\ipykernel_launcher.py:32: DeprecationWarning: time.clock has been deprecated in Python 3.3 and will be removed from Python 3.8: use time.perf_counter or time.process_time instead\n",
      "D:\\B\\python\\lib\\site-packages\\ipykernel_launcher.py:34: DeprecationWarning: time.clock has been deprecated in Python 3.3 and will be removed from Python 3.8: use time.perf_counter or time.process_time instead\n"
     ]
    },
    {
     "name": "stdout",
     "output_type": "stream",
     "text": [
      "resolution systeme done in 0.0652 s\n"
     ]
    },
    {
     "data": {
      "image/png": "[encoded data removed]",
      "text/plain": [
       "<Figure size 432x288 with 1 Axes>"
      ]
     },
     "metadata": {
      "needs_background": "light"
     },
     "output_type": "display_data"
    }
   ],
   "source": [
    "#2D\n",
    "#Probleme Dirichlet homogene 2D \n",
    "#\n",
    "# taille du domaine [0,L]x[0,H]\n",
    "L=2.;\n",
    "H=3.;\n",
    "# nombre de points de discretisation et pas de maillage\n",
    "N=100;\n",
    "M=180;\n",
    "#\n",
    "l=L/(N+1);\n",
    "h=H/(M+1);\n",
    "# vecteur discretisation selon x\n",
    "x=linspace(l,L-l,N)\n",
    "# vecteur discretisation selon y\n",
    "y=linspace(h,H-h,M)\n",
    "#construction de la matrice A par ses diagonales \n",
    "#\n",
    "D0=(2/(l**2)+2/(h**2))*ones(N*M)# diagonale principale\n",
    "D1=-1/l**2*ones(N*M)# surdiagonale\n",
    "D1[N::N]=0.#correction de la surdiagonale (voisin de droite n existe pas au bord droit)\n",
    "DM1=-1/l**2*ones(N*M)# sousdiagonale\n",
    "DM1[N-1::N]=0.#correction de la sousdiagonale (voisin de gauche n existe pas au bord gauche)\n",
    "DN=-1/h**2*ones(N*M)\n",
    "A=spdiags(D0,[0],N*M,N*M)+spdiags(D1,[1],N*M,N*M)+spdiags(DM1,[-1],N*M,N*M)\n",
    "A=A+spdiags(DN,[N],N*M,N*M)+spdiags(DN,[-N],N*M,N*M)# A est pentadiagonale\n",
    "#construction d'un second membre trivial\n",
    "f=ones(N*M)\n",
    "#\n",
    "#resolution du systeme lineaire creux\n",
    "#\n",
    "t=clock()\n",
    "u=spsolve(A,f)\n",
    "t2=clock()\n",
    "print('resolution systeme done in %5.4f s' % (t2 - t)) \n",
    "#uu=matrix(u,N,M)# permet de reconstruire uu comme un tableau a 2 indices, \n",
    "                #uu(i,j)=u(k), avec k la numerotation de TD\n",
    "# representation graphique de la solution\n",
    "uu=reshape(u,(M,N))\n",
    "uubord=0*ones((M+2,N+2));\n",
    "uubord[1:M+1,1:N+1]=uu;\n",
    "#print(A.toarray())\n",
    "from mpl_toolkits import mplot3d\n",
    "ax = plt.axes(projection='3d')\n",
    "X, Y = meshgrid(linspace(0,L,N+2),linspace(0,H,M+2))\n",
    "ax = plt.axes(projection='3d')\n",
    "#ax.contour3D(X, Y, uubord, 50, cmap='binary')\n",
    "ax.plot_surface(X, Y, uubord, rstride=1, cstride=1,\n",
    "                cmap='viridis', edgecolor='none');\n",
    "ax.set_xlabel('x')\n",
    "ax.set_ylabel('y')\n",
    "ax.set_zlabel('u');"
   ]
  },
  {
   "cell_type": "markdown",
   "metadata": {},
   "source": [
    "## Validation\n"
   ]
  },
  {
   "cell_type": "code",
   "execution_count": 77,
   "metadata": {},
   "outputs": [
    {
     "name": "stdout",
     "output_type": "stream",
     "text": [
      "3.6827319275206656\n",
      "[-5.99146455 -7.82404601 -8.76405327]\n",
      "[1.30365485 1.33533315 1.34338869]\n"
     ]
    },
    {
     "data": {
      "image/png": "[encoded data removed]",
      "text/plain": [
       "<Figure size 432x288 with 1 Axes>"
      ]
     },
     "metadata": {
      "needs_background": "light"
     },
     "output_type": "display_data"
    }
   ],
   "source": [
    "u=lambda x, y : cos(x)*sin(y)\n",
    "f=lambda x, y : sin(y)*cos(x)\n",
    "#\n",
    "# La fonction pour calculer l'erreur\n",
    "#\n",
    "def erreur_Dirchlet2(N, u, f, p):\n",
    "#N et M sont les nombre de points de discretisation dans 2 directions differentes. \n",
    "# u et f les fonctions passées en argumennt, on pourra en changer \n",
    "# en definissant d'autres fonctions\n",
    "# p est l'entier pour la norme l^p\n",
    "    L=2.;\n",
    "    H=3;\n",
    "    M = N\n",
    "    l=L/(N+1);\n",
    "    h=H/(M+1); \n",
    "    # vecteur discretisation selon x\n",
    "    x=linspace(l,L-l,N)\n",
    "    # vecteur discretisation selon y\n",
    "    y=linspace(h,H-h,M)\n",
    "    #construction du second membre du systeme\n",
    "    xx = x*(ones((N,1)).T)\n",
    "    xx = xx.T\n",
    "    yy = y * ones((1,M))\n",
    "    ff = f(xx,yy)\n",
    "    F = ff.reshape(N*M)\n",
    "    #construction de la matrice en systeme creux\n",
    "    D0=(2/(l**2)+2/(h**2))*ones(N*M)\n",
    "    D1=-1/l**2*ones(N*M)\n",
    "    D1[N::N]=0.\n",
    "    DM1=-1/l**2*ones(N*M)\n",
    "    DM1[N-1::N]=0.\n",
    "    DN=-1/h**2*ones(N*M)\n",
    "    A=spdiags(D0,[0],N*M,N*M)+spdiags(D1,[1],N*M,N*M)+spdiags(DM1,[-1],N*M,N*M)\n",
    "    A=A+spdiags(DN,[N],N*M,N*M)+spdiags(DN,[-N],N*M,N*M)\n",
    "    #resolution du systeme creux\n",
    "    U=spsolve(A,F)\n",
    "    #le vecteur erreur err\n",
    "    uu = u(xx,yy).reshape(N*M)\n",
    "    err=abs(U-uu)\n",
    "    #on présente le graphe des erreurs selon les points de discretisation\n",
    "#    plot(x,err)\n",
    "#    print([ei**p for ei in err],sum([ei**p for ei in err]))\n",
    "    normerr=sum([ei**p for ei in err])\n",
    "    normerr=normerr**(1/p)\n",
    "    #erreur relative\n",
    "    normeU=sum([abs(ui)**p for ui in U])\n",
    "    normeU=normeU**(1/p)\n",
    "    #return max(err)/max(abs(U))\n",
    "    return normerr/normeU\n",
    "\n",
    "# on evalue l'erreur\n",
    "print(erreur_Dirchlet2(20,u,f,2))\n",
    "\n",
    "errtab=[]\n",
    "Ntab=[]\n",
    "\n",
    "for N in range(20,100,30):\n",
    "    Ntab.append(N)\n",
    "    errtab.append(erreur_Dirchlet2(N,u,f,2))\n",
    "\n",
    "plot(log(Ntab), log(errtab),log(Ntab), -2*log(Ntab))\n",
    "print(-2*log(Ntab))\n",
    "print(log(errtab))\n"
   ]
  },
  {
   "cell_type": "code",
   "execution_count": 54,
   "metadata": {},
   "outputs": [
    {
     "name": "stdout",
     "output_type": "stream",
     "text": [
      "3.6827319275206656\n",
      "[-5.99146455 -7.82404601 -8.76405327]\n",
      "[1.30365485 1.33533315 1.34338869]\n"
     ]
    }
   ],
   "source": [
    "u=lambda x, y : cos(x)*sin(y)\n",
    "f=lambda x, y : sin(y)*cos(x)\n",
    "#\n",
    "# La fonction pour calculer l'erreur\n",
    "#\n",
    "def erreur_Dirchlet2(N, M, u, f, p):\n",
    "#N et M sont les nombre de points de discretisation dans 2 directions differentes. \n",
    "# u et f les fonctions passées en argumennt, on pourra en changer \n",
    "# en definissant d'autres fonctions\n",
    "# p est l'entier pour la norme l^p\n",
    "    L=2.;\n",
    "    H=3;\n",
    "    l=L/(N+1);\n",
    "    h=H/(M+1); \n",
    "    # vecteur discretisation selon x\n",
    "    x=linspace(l,L-l,N)\n",
    "    # vecteur discretisation selon y\n",
    "    y=linspace(h,H-h,M)\n",
    "    #construction du second membre du systeme\n",
    "    xx = x*(ones((N,1)).T)\n",
    "    xx = xx.T\n",
    "    yy = y * ones((1,M))\n",
    "    ff = f(xx,yy)\n",
    "    F = ff.reshape(N*M)\n",
    "    #construction de la matrice en systeme creux\n",
    "    D0=(2/(l**2)+2/(h**2))*ones(N*M)\n",
    "    D1=-1/l**2*ones(N*M)\n",
    "    D1[N::N]=0.\n",
    "    DM1=-1/l**2*ones(N*M)\n",
    "    DM1[N-1::N]=0.\n",
    "    DN=-1/h**2*ones(N*M)\n",
    "    A=spdiags(D0,[0],N*M,N*M)+spdiags(D1,[1],N*M,N*M)+spdiags(DM1,[-1],N*M,N*M)\n",
    "    A=A+spdiags(DN,[N],N*M,N*M)+spdiags(DN,[-N],N*M,N*M)\n",
    "    #resolution du systeme creux\n",
    "    U=spsolve(A,F)\n",
    "    #le vecteur erreur err\n",
    "    uu = u(xx,yy).reshape(N*M)\n",
    "    err=abs(U-uu)\n",
    "    #on présente le graphe des erreurs selon les points de discretisation\n",
    "#    plot(x,err)\n",
    "#    print([ei**p for ei in err],sum([ei**p for ei in err]))\n",
    "    normerr=sum([ei**p for ei in err])\n",
    "    normerr=normerr**(1/p)\n",
    "    #erreur relative\n",
    "    normeU=sum([abs(ui)**p for ui in U])\n",
    "    normeU=normeU**(1/p)\n",
    "    #return max(err)/max(abs(U))\n",
    "    return normerr/normeU\n",
    "\n",
    "# on evalue l'erreur\n",
    "print(erreur_Dirchlet2(20,20,u,f,2))\n",
    "\n",
    "errtab=[]\n",
    "Ntab=[]\n",
    "Mtab=[]\n",
    "\n",
    "for N, M in zip(range(20,100,30), range(20,100,30)):\n",
    "    Ntab.append(N)\n",
    "    Mtab.append(M)\n",
    "    errtab.append(erreur_Dirchlet2(N, M,u,f,2))\n",
    "\n",
    "# plot(log(Ntab), log(errtab),log(Ntab), -2*log(Ntab))\n",
    "print(-2*log(Ntab))\n",
    "print(log(errtab))\n"
   ]
  },
  {
   "cell_type": "markdown",
   "metadata": {},
   "source": [
    "## Dirichlet inhomogène\n",
    "Coder le problème de Dirichlet inhomogène et le valider\n"
   ]
  },
  {
   "cell_type": "code",
   "execution_count": 56,
   "metadata": {},
   "outputs": [
    {
     "ename": "SyntaxError",
     "evalue": "invalid syntax (<ipython-input-56-a5c02c2fb659>, line 25)",
     "output_type": "error",
     "traceback": [
      "\u001b[1;36m  File \u001b[1;32m\"<ipython-input-56-a5c02c2fb659>\"\u001b[1;36m, line \u001b[1;32m25\u001b[0m\n\u001b[1;33m    DM1[N-1::N]=0 .#correction de la sousdiagonale (voisin de gauche n existe pas au bord gauche)\u001b[0m\n\u001b[1;37m                                                                                                 ^\u001b[0m\n\u001b[1;31mSyntaxError\u001b[0m\u001b[1;31m:\u001b[0m invalid syntax\n"
     ]
    }
   ],
   "source": []
  },
  {
   "cell_type": "markdown",
   "metadata": {},
   "source": [
    "## Robin inhomogène\n",
    "Coder le problème de Robin inhomogène à coefficients variables, puis le valider.\n",
    "Il est conseillé de procéder par étape, en construisant et validant d'abord Robin homogène à coefficient constant."
   ]
  },
  {
   "cell_type": "code",
   "execution_count": null,
   "metadata": {},
   "outputs": [],
   "source": []
  }
 ],
 "metadata": {
  "kernelspec": {
   "display_name": "Python 3",
   "language": "python",
   "name": "python3"
  },
  "language_info": {
   "codemirror_mode": {
    "name": "ipython",
    "version": 3
   },
   "file_extension": ".py",
   "mimetype": "text/x-python",
   "name": "python",
   "nbconvert_exporter": "python",
   "pygments_lexer": "ipython3",
   "version": "3.7.6"
  },
  "toc": {
   "base_numbering": 1,
   "nav_menu": {},
   "number_sections": true,
   "sideBar": true,
   "skip_h1_title": false,
   "title_cell": "Table of Contents",
   "title_sidebar": "Contents",
   "toc_cell": false,
   "toc_position": {},
   "toc_section_display": true,
   "toc_window_display": false
  }
 },
 "nbformat": 4,
 "nbformat_minor": 1
}
